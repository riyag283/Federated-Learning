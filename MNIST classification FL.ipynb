{
 "cells": [
  {
   "cell_type": "code",
   "execution_count": 1,
   "metadata": {},
   "outputs": [],
   "source": [
    "import tensorflow as tf\n",
    "import pandas as pd\n",
    "import numpy as np\n",
    "import matplotlib.pyplot as plt\n",
    "import seaborn as sb"
   ]
  },
  {
   "cell_type": "code",
   "execution_count": 2,
   "metadata": {},
   "outputs": [],
   "source": [
    "train = pd.read_csv('train.csv')"
   ]
  },
  {
   "cell_type": "code",
   "execution_count": 3,
   "metadata": {},
   "outputs": [
    {
     "name": "stdout",
     "output_type": "stream",
     "text": [
      "count       785\n",
      "unique        1\n",
      "top       False\n",
      "freq        785\n",
      "dtype: object\n"
     ]
    }
   ],
   "source": [
    "print(train.isnull().any().describe())"
   ]
  },
  {
   "cell_type": "code",
   "execution_count": 4,
   "metadata": {},
   "outputs": [
    {
     "data": {
      "text/plain": [
       "(42000, 785)"
      ]
     },
     "execution_count": 4,
     "metadata": {},
     "output_type": "execute_result"
    }
   ],
   "source": [
    "train.shape"
   ]
  },
  {
   "cell_type": "code",
   "execution_count": 5,
   "metadata": {},
   "outputs": [],
   "source": [
    "train = train.reindex(np.random.permutation(train.index))"
   ]
  },
  {
   "cell_type": "code",
   "execution_count": 6,
   "metadata": {},
   "outputs": [],
   "source": [
    "train_rows = train.shape[0]"
   ]
  },
  {
   "cell_type": "code",
   "execution_count": 7,
   "metadata": {},
   "outputs": [
    {
     "data": {
      "text/plain": [
       "10500"
      ]
     },
     "execution_count": 7,
     "metadata": {},
     "output_type": "execute_result"
    }
   ],
   "source": [
    "train_rows//4"
   ]
  },
  {
   "cell_type": "code",
   "execution_count": 8,
   "metadata": {},
   "outputs": [
    {
     "data": {
      "text/plain": [
       "(42000, 785)"
      ]
     },
     "execution_count": 8,
     "metadata": {},
     "output_type": "execute_result"
    }
   ],
   "source": [
    "train.shape"
   ]
  },
  {
   "cell_type": "code",
   "execution_count": 9,
   "metadata": {},
   "outputs": [],
   "source": [
    "train1 = train.iloc[:train_rows//4-5000, :]\n",
    "train2 = train.iloc[train_rows//4-5000:2*train_rows//4, :]\n",
    "train3 = train.iloc[2*train_rows//4:3*train_rows//4+4000, :]\n",
    "train4 = train.iloc[3*train_rows//4+4000:, :]"
   ]
  },
  {
   "cell_type": "code",
   "execution_count": 10,
   "metadata": {},
   "outputs": [
    {
     "data": {
      "text/plain": [
       "(5500, 785)"
      ]
     },
     "execution_count": 10,
     "metadata": {},
     "output_type": "execute_result"
    }
   ],
   "source": [
    "train1.shape"
   ]
  },
  {
   "cell_type": "code",
   "execution_count": 11,
   "metadata": {},
   "outputs": [],
   "source": [
    "n1 = len(train1)\n",
    "n2 = len(train2)\n",
    "n3 = len(train3)\n",
    "n4 = len(train4)"
   ]
  },
  {
   "cell_type": "code",
   "execution_count": 12,
   "metadata": {},
   "outputs": [
    {
     "data": {
      "text/plain": [
       "<BarContainer object of 4 artists>"
      ]
     },
     "execution_count": 12,
     "metadata": {},
     "output_type": "execute_result"
    },
    {
     "data": {
      "image/png": "[encoded data removed]",
      "text/plain": [
       "<Figure size 432x288 with 1 Axes>"
      ]
     },
     "metadata": {
      "needs_background": "light"
     },
     "output_type": "display_data"
    }
   ],
   "source": [
    "df = pd.Series(data=[n1, n2, n3, n4],\n",
    "               index=['Set1', 'Set2', 'Set3', 'Set4'],\n",
    "               name=\"DATA\").rename_axis(\"Data set length\", axis=0)\n",
    "\n",
    "x = df.index\n",
    "y = df.values\n",
    "\n",
    "plt.bar(x, y)"
   ]
  },
  {
   "cell_type": "code",
   "execution_count": 13,
   "metadata": {},
   "outputs": [
    {
     "data": {
      "text/plain": [
       "<matplotlib.axes._subplots.AxesSubplot at 0x120001351d0>"
      ]
     },
     "execution_count": 13,
     "metadata": {},
     "output_type": "execute_result"
    },
    {
     "data": {
      "image/png": "[encoded data removed]",
      "text/plain": [
       "<Figure size 432x288 with 1 Axes>"
      ]
     },
     "metadata": {
      "needs_background": "light"
     },
     "output_type": "display_data"
    }
   ],
   "source": [
    "train1['label'].value_counts().sort_index(axis=0).plot.bar(color='orange')"
   ]
  },
  {
   "cell_type": "code",
   "execution_count": 14,
   "metadata": {},
   "outputs": [
    {
     "data": {
      "text/plain": [
       "<matplotlib.axes._subplots.AxesSubplot at 0x120001d09b0>"
      ]
     },
     "execution_count": 14,
     "metadata": {},
     "output_type": "execute_result"
    },
    {
     "data": {
      "image/png": "[encoded data removed]",
      "text/plain": [
       "<Figure size 432x288 with 1 Axes>"
      ]
     },
     "metadata": {
      "needs_background": "light"
     },
     "output_type": "display_data"
    }
   ],
   "source": [
    "train2['label'].value_counts().sort_index(axis=0).plot.bar(color='green')"
   ]
  },
  {
   "cell_type": "code",
   "execution_count": 15,
   "metadata": {},
   "outputs": [
    {
     "data": {
      "text/plain": [
       "<matplotlib.axes._subplots.AxesSubplot at 0x12000254048>"
      ]
     },
     "execution_count": 15,
     "metadata": {},
     "output_type": "execute_result"
    },
    {
     "data": {
      "image/png": "[encoded data removed]",
      "text/plain": [
       "<Figure size 432x288 with 1 Axes>"
      ]
     },
     "metadata": {
      "needs_background": "light"
     },
     "output_type": "display_data"
    }
   ],
   "source": [
    "train3['label'].value_counts().sort_index(axis=0).plot.bar(color='red')"
   ]
  },
  {
   "cell_type": "code",
   "execution_count": 16,
   "metadata": {},
   "outputs": [
    {
     "data": {
      "text/plain": [
       "<matplotlib.axes._subplots.AxesSubplot at 0x120002dd860>"
      ]
     },
     "execution_count": 16,
     "metadata": {},
     "output_type": "execute_result"
    },
    {
     "data": {
      "image/png": "[encoded data removed]",
      "text/plain": [
       "<Figure size 432x288 with 1 Axes>"
      ]
     },
     "metadata": {
      "needs_background": "light"
     },
     "output_type": "display_data"
    }
   ],
   "source": [
    "train4['label'].value_counts().sort_index(axis=0).plot.bar(color='purple')"
   ]
  },
  {
   "cell_type": "code",
   "execution_count": 17,
   "metadata": {},
   "outputs": [],
   "source": [
    "X1 = train1.drop(labels=['label'],axis=1)\n",
    "y1 = train1['label']\n",
    "X2 = train2.drop(labels=['label'],axis=1)\n",
    "y2 = train2['label']\n",
    "X3 = train3.drop(labels=['label'],axis=1)\n",
    "y3 = train3['label']\n",
    "X4 = train4.drop(labels=['label'],axis=1)\n",
    "y4 = train4['label']\n",
    "\n",
    "del train1, train2, train3, train4"
   ]
  },
  {
   "cell_type": "code",
   "execution_count": 18,
   "metadata": {},
   "outputs": [],
   "source": [
    "# normalizing\n",
    "X1 = X1/255.0\n",
    "X2 = X2/255.0\n",
    "X3 = X3/255.0\n",
    "X4 = X4/255.0"
   ]
  },
  {
   "cell_type": "code",
   "execution_count": 19,
   "metadata": {},
   "outputs": [],
   "source": [
    "# reshaping images in 3 dimensions (height=28px, width=28px, canal=1)\n",
    "X1 = X1.values.reshape(-1,28,28,1)\n",
    "X2 = X2.values.reshape(-1,28,28,1)\n",
    "X3 = X3.values.reshape(-1,28,28,1)\n",
    "X4 = X4.values.reshape(-1,28,28,1)"
   ]
  },
  {
   "cell_type": "code",
   "execution_count": 20,
   "metadata": {},
   "outputs": [],
   "source": [
    "from sklearn.model_selection import train_test_split\n",
    "random_seed = 2\n",
    "x_train1, x_test1, y_train1, y_test1 = train_test_split(X1, y1, test_size=0.1, random_state=random_seed)\n",
    "x_train2, x_test2, y_train2, y_test2 = train_test_split(X2, y2, test_size=0.1, random_state=random_seed)\n",
    "x_train3, x_test3, y_train3, y_test3 = train_test_split(X3, y3, test_size=0.1, random_state=random_seed)\n",
    "x_train4, x_test4, y_train4, y_test4 = train_test_split(X4, y4, test_size=0.1, random_state=random_seed)"
   ]
  },
  {
   "cell_type": "code",
   "execution_count": 21,
   "metadata": {},
   "outputs": [],
   "source": [
    "def MODEL():\n",
    "    model = tf.keras.models.Sequential([\n",
    "        tf.keras.layers.Flatten(input_shape=(28,28)),\n",
    "        tf.keras.layers.Dense(64, activation='relu'),\n",
    "        tf.keras.layers.Dropout(0.2),\n",
    "        tf.keras.layers.Dense(10)\n",
    "    ])\n",
    "    #model.summary()\n",
    "    loss_fn = tf.keras.losses.SparseCategoricalCrossentropy(from_logits=True)\n",
    "    model.compile(optimizer='adam',\n",
    "             loss=loss_fn,\n",
    "             metrics=['accuracy'])\n",
    "    return model"
   ]
  },
  {
   "cell_type": "code",
   "execution_count": 23,
   "metadata": {},
   "outputs": [],
   "source": [
    "#predictions = model(x_train1[:1]).numpy()\n",
    "#predictions"
   ]
  },
  {
   "cell_type": "code",
   "execution_count": 25,
   "metadata": {},
   "outputs": [],
   "source": [
    "# Convert the logits into probabilities\n",
    "#tf.nn.softmax(predictions).numpy()"
   ]
  },
  {
   "cell_type": "code",
   "execution_count": 26,
   "metadata": {},
   "outputs": [],
   "source": [
    "#loss_fn(y_train1[:1], predictions).numpy()"
   ]
  },
  {
   "cell_type": "code",
   "execution_count": 27,
   "metadata": {},
   "outputs": [],
   "source": [
    "#history = model.fit(x_train2, y_train2, validation_split=0.1, epochs=15)"
   ]
  },
  {
   "cell_type": "code",
   "execution_count": 28,
   "metadata": {},
   "outputs": [],
   "source": [
    "#print(history.history.keys())"
   ]
  },
  {
   "cell_type": "code",
   "execution_count": 30,
   "metadata": {},
   "outputs": [
    {
     "data": {
      "text/plain": [
       "\"\\nplt.plot(history.history['accuracy'])\\nplt.plot(history.history['val_accuracy'])\\nplt.title('model accuracy')\\nplt.ylabel('accuracy')\\nplt.xlabel('epoch')\\nplt.legend(['train', 'test'], loc='upper left')\\nplt.show()\\n\""
      ]
     },
     "execution_count": 30,
     "metadata": {},
     "output_type": "execute_result"
    }
   ],
   "source": [
    "'''\n",
    "plt.plot(history.history['accuracy'])\n",
    "plt.plot(history.history['val_accuracy'])\n",
    "plt.title('model accuracy')\n",
    "plt.ylabel('accuracy')\n",
    "plt.xlabel('epoch')\n",
    "plt.legend(['train', 'test'], loc='upper left')\n",
    "plt.show()\n",
    "'''"
   ]
  },
  {
   "cell_type": "code",
   "execution_count": 31,
   "metadata": {},
   "outputs": [],
   "source": [
    "#model.evaluate(x_test1,  y_test1, verbose=2)"
   ]
  },
  {
   "cell_type": "code",
   "execution_count": 32,
   "metadata": {},
   "outputs": [],
   "source": [
    "#predictions = model.predict(test1)"
   ]
  },
  {
   "cell_type": "code",
   "execution_count": 33,
   "metadata": {},
   "outputs": [],
   "source": [
    "#print(type(predictions))\n",
    "#print(predictions.shape)"
   ]
  },
  {
   "cell_type": "code",
   "execution_count": 34,
   "metadata": {},
   "outputs": [],
   "source": [
    "#model.get_weights()"
   ]
  },
  {
   "cell_type": "code",
   "execution_count": 35,
   "metadata": {},
   "outputs": [],
   "source": [
    "#model.fit(x_train2, y_train2, validation_split=0.1, epochs=2, verbose=0)"
   ]
  },
  {
   "cell_type": "code",
   "execution_count": 36,
   "metadata": {},
   "outputs": [],
   "source": [
    "model1 = MODEL()\n",
    "model2 = MODEL()\n",
    "model3 = MODEL()\n",
    "model4 = MODEL()"
   ]
  },
  {
   "cell_type": "code",
   "execution_count": 37,
   "metadata": {},
   "outputs": [
    {
     "name": "stdout",
     "output_type": "stream",
     "text": [
      "Epoch 1/2\n",
      "140/140 [==============================] - 1s 2ms/step - loss: 1.4117 - accuracy: 0.5690 - val_loss: 0.4831 - val_accuracy: 0.8667\n",
      "Epoch 2/2\n",
      "140/140 [==============================] - 0s 1ms/step - loss: 0.4692 - accuracy: 0.8619 - val_loss: 0.3830 - val_accuracy: 0.8788\n",
      "Epoch 1/2\n",
      "393/393 [==============================] - 1s 1ms/step - loss: 0.9807 - accuracy: 0.7020 - val_loss: 0.3242 - val_accuracy: 0.9140\n",
      "Epoch 2/2\n",
      "393/393 [==============================] - 0s 1ms/step - loss: 0.3274 - accuracy: 0.9042 - val_loss: 0.2550 - val_accuracy: 0.9297\n",
      "Epoch 1/2\n",
      "368/368 [==============================] - 1s 2ms/step - loss: 1.0952 - accuracy: 0.6690 - val_loss: 0.3336 - val_accuracy: 0.9004\n",
      "Epoch 2/2\n",
      "368/368 [==============================] - 0s 1ms/step - loss: 0.3360 - accuracy: 0.9044 - val_loss: 0.2744 - val_accuracy: 0.9272\n",
      "Epoch 1/2\n",
      "165/165 [==============================] - 1s 2ms/step - loss: 1.4613 - accuracy: 0.5649 - val_loss: 0.4752 - val_accuracy: 0.8786\n",
      "Epoch 2/2\n",
      "165/165 [==============================] - 0s 1ms/step - loss: 0.4890 - accuracy: 0.8570 - val_loss: 0.3655 - val_accuracy: 0.9060\n"
     ]
    },
    {
     "data": {
      "image/png": "[encoded data removed]",
      "text/plain": [
       "<Figure size 432x288 with 1 Axes>"
      ]
     },
     "metadata": {
      "needs_background": "light"
     },
     "output_type": "display_data"
    },
    {
     "data": {
      "image/png": "[encoded data removed]",
      "text/plain": [
       "<Figure size 432x288 with 1 Axes>"
      ]
     },
     "metadata": {
      "needs_background": "light"
     },
     "output_type": "display_data"
    },
    {
     "data": {
      "image/png": "[encoded data removed]",
      "text/plain": [
       "<Figure size 432x288 with 1 Axes>"
      ]
     },
     "metadata": {
      "needs_background": "light"
     },
     "output_type": "display_data"
    },
    {
     "data": {
      "image/png": "[encoded data removed]",
      "text/plain": [
       "<Figure size 432x288 with 1 Axes>"
      ]
     },
     "metadata": {
      "needs_background": "light"
     },
     "output_type": "display_data"
    }
   ],
   "source": [
    "for i in range(1):\n",
    "    h1 = model1.fit(x_train1, y_train1, validation_split=0.1, epochs=2, verbose=1)\n",
    "    h2 = model2.fit(x_train2, y_train2, validation_split=0.1, epochs=2, verbose=1)\n",
    "    h3 = model3.fit(x_train3, y_train3, validation_split=0.1, epochs=2, verbose=1)\n",
    "    h4 = model4.fit(x_train4, y_train4, validation_split=0.1, epochs=2, verbose=1)\n",
    "    \n",
    "    plt.plot(h1.history['accuracy'])\n",
    "    plt.plot(h1.history['val_accuracy'])\n",
    "    plt.title('Model Accuracy')\n",
    "    plt.ylabel('Accuracy')\n",
    "    plt.xlabel('Epoch')\n",
    "    plt.legend(['train', 'test'], loc='upper left')\n",
    "    plt.show()\n",
    "    \n",
    "    plt.plot(h2.history['accuracy'])\n",
    "    plt.plot(h2.history['val_accuracy'])\n",
    "    plt.title('Model Accuracy')\n",
    "    plt.ylabel('Accuracy')\n",
    "    plt.xlabel('Epoch')\n",
    "    plt.legend(['train', 'test'], loc='upper left')\n",
    "    plt.show()\n",
    "    \n",
    "    plt.plot(h3.history['accuracy'])\n",
    "    plt.plot(h3.history['val_accuracy'])\n",
    "    plt.title('Model Accuracy')\n",
    "    plt.ylabel('Accuracy')\n",
    "    plt.xlabel('Epoch')\n",
    "    plt.legend(['train', 'test'], loc='upper left')\n",
    "    plt.show()\n",
    "    \n",
    "    plt.plot(h4.history['accuracy'])\n",
    "    plt.plot(h4.history['val_accuracy'])\n",
    "    plt.title('Model Accuracy')\n",
    "    plt.ylabel('Accuracy')\n",
    "    plt.xlabel('Epoch')\n",
    "    plt.legend(['train', 'test'], loc='upper left')\n",
    "    plt.show()"
   ]
  },
  {
   "cell_type": "code",
   "execution_count": 38,
   "metadata": {},
   "outputs": [
    {
     "name": "stdout",
     "output_type": "stream",
     "text": [
      "18/18 - 0s - loss: 0.3880 - accuracy: 0.8927\n"
     ]
    },
    {
     "data": {
      "text/plain": [
       "[0.38798877596855164, 0.892727255821228]"
      ]
     },
     "execution_count": 38,
     "metadata": {},
     "output_type": "execute_result"
    }
   ],
   "source": [
    "model1.evaluate(x_test1,  y_test1, verbose=2)"
   ]
  },
  {
   "cell_type": "code",
   "execution_count": 39,
   "metadata": {},
   "outputs": [
    {
     "name": "stdout",
     "output_type": "stream",
     "text": [
      "49/49 - 0s - loss: 0.2895 - accuracy: 0.9200\n"
     ]
    },
    {
     "data": {
      "text/plain": [
       "[0.28954780101776123, 0.9200000166893005]"
      ]
     },
     "execution_count": 39,
     "metadata": {},
     "output_type": "execute_result"
    }
   ],
   "source": [
    "model2.evaluate(x_test2,  y_test2, verbose=2)"
   ]
  },
  {
   "cell_type": "code",
   "execution_count": 40,
   "metadata": {},
   "outputs": [
    {
     "name": "stdout",
     "output_type": "stream",
     "text": [
      "46/46 - 0s - loss: 0.2539 - accuracy: 0.9290\n"
     ]
    },
    {
     "data": {
      "text/plain": [
       "[0.25387489795684814, 0.9289655089378357]"
      ]
     },
     "execution_count": 40,
     "metadata": {},
     "output_type": "execute_result"
    }
   ],
   "source": [
    "model3.evaluate(x_test3,  y_test3, verbose=2)"
   ]
  },
  {
   "cell_type": "code",
   "execution_count": 41,
   "metadata": {},
   "outputs": [
    {
     "name": "stdout",
     "output_type": "stream",
     "text": [
      "21/21 - 0s - loss: 0.3644 - accuracy: 0.8969\n"
     ]
    },
    {
     "data": {
      "text/plain": [
       "[0.36441561579704285, 0.8969230651855469]"
      ]
     },
     "execution_count": 41,
     "metadata": {},
     "output_type": "execute_result"
    }
   ],
   "source": [
    "model4.evaluate(x_test4,  y_test4, verbose=2)"
   ]
  },
  {
   "cell_type": "code",
   "execution_count": 42,
   "metadata": {},
   "outputs": [],
   "source": [
    "np.random.seed(2)"
   ]
  },
  {
   "cell_type": "code",
   "execution_count": 43,
   "metadata": {},
   "outputs": [],
   "source": [
    "model1 = MODEL()\n",
    "model2 = MODEL()\n",
    "model3 = MODEL()\n",
    "model4 = MODEL()"
   ]
  },
  {
   "cell_type": "code",
   "execution_count": 44,
   "metadata": {},
   "outputs": [
    {
     "name": "stdout",
     "output_type": "stream",
     "text": [
      "18/18 - 0s - loss: 0.1025 - accuracy: 0.9691\n",
      "49/49 - 0s - loss: 0.1590 - accuracy: 0.9626\n",
      "46/46 - 0s - loss: 0.1141 - accuracy: 0.9766\n",
      "21/21 - 0s - loss: 0.1103 - accuracy: 0.9708\n"
     ]
    },
    {
     "data": {
      "text/plain": [
       "[0.11032091826200485, 0.9707692265510559]"
      ]
     },
     "execution_count": 44,
     "metadata": {},
     "output_type": "execute_result"
    }
   ],
   "source": [
    "for i in range(100):\n",
    "    h1 = model1.fit(x_train1, y_train1, validation_split=0.1, epochs=1, verbose=0)\n",
    "    h2 = model2.fit(x_train2, y_train2, validation_split=0.1, epochs=1, verbose=0)\n",
    "    h3 = model3.fit(x_train3, y_train3, validation_split=0.1, epochs=1, verbose=0)\n",
    "    h4 = model4.fit(x_train4, y_train4, validation_split=0.1, epochs=1, verbose=0)\n",
    "    \n",
    "    wt1 = model1.get_weights()\n",
    "    wt2 = model2.get_weights()\n",
    "    wt3 = model3.get_weights()\n",
    "    wt4 = model4.get_weights()\n",
    "    \n",
    "    a = np.array(wt1)\n",
    "    b = np.array(wt2)\n",
    "    c = np.array(wt3)\n",
    "    d = np.array(wt4)\n",
    "    \n",
    "    mean = (a+b+c+d)/4\n",
    "    \n",
    "    model1.set_weights(mean)\n",
    "    model2.set_weights(mean)\n",
    "    model3.set_weights(mean)\n",
    "    model4.set_weights(mean)\n",
    "    \n",
    "    '''\n",
    "    plt.plot(h1.history['accuracy'])\n",
    "    plt.plot(h1.history['val_accuracy'])\n",
    "    plt.title('Model Accuracy')\n",
    "    plt.ylabel('Accuracy')\n",
    "    plt.xlabel('Epoch')\n",
    "    plt.legend(['train', 'test'], loc='upper left')\n",
    "    plt.show()\n",
    "    \n",
    "    plt.plot(h2.history['accuracy'])\n",
    "    plt.plot(h2.history['val_accuracy'])\n",
    "    plt.title('Model Accuracy')\n",
    "    plt.ylabel('Accuracy')\n",
    "    plt.xlabel('Epoch')\n",
    "    plt.legend(['train', 'test'], loc='upper left')\n",
    "    plt.show()\n",
    "    \n",
    "    plt.plot(h3.history['accuracy'])\n",
    "    plt.plot(h3.history['val_accuracy'])\n",
    "    plt.title('Model Accuracy')\n",
    "    plt.ylabel('Accuracy')\n",
    "    plt.xlabel('Epoch')\n",
    "    plt.legend(['train', 'test'], loc='upper left')\n",
    "    plt.show()\n",
    "    \n",
    "    plt.plot(h4.history['accuracy'])\n",
    "    plt.plot(h4.history['val_accuracy'])\n",
    "    plt.title('Model Accuracy')\n",
    "    plt.ylabel('Accuracy')\n",
    "    plt.xlabel('Epoch')\n",
    "    plt.legend(['train', 'test'], loc='upper left')\n",
    "    plt.show()\n",
    "    '''\n",
    "model1.evaluate(x_test1,  y_test1, verbose=2)\n",
    "model2.evaluate(x_test2,  y_test2, verbose=2)\n",
    "model3.evaluate(x_test3,  y_test3, verbose=2)\n",
    "model4.evaluate(x_test4,  y_test4, verbose=2)"
   ]
  },
  {
   "cell_type": "code",
   "execution_count": 45,
   "metadata": {
    "scrolled": true
   },
   "outputs": [],
   "source": [
    "model1 = MODEL()\n",
    "model2 = MODEL()\n",
    "model3 = MODEL()\n",
    "model4 = MODEL()"
   ]
  },
  {
   "cell_type": "code",
   "execution_count": 46,
   "metadata": {},
   "outputs": [
    {
     "name": "stdout",
     "output_type": "stream",
     "text": [
      "\n",
      "18/18 - 0s - loss: 0.3447 - accuracy: 0.9255\n",
      "49/49 - 0s - loss: 0.3257 - accuracy: 0.9516\n",
      "46/46 - 0s - loss: 0.2458 - accuracy: 0.9538\n",
      "21/21 - 0s - loss: 0.3717 - accuracy: 0.9354\n"
     ]
    },
    {
     "data": {
      "text/plain": [
       "[0.371708482503891, 0.9353846311569214]"
      ]
     },
     "execution_count": 46,
     "metadata": {},
     "output_type": "execute_result"
    }
   ],
   "source": [
    "for i in range(100):\n",
    "    h1 = model1.fit(x_train1, y_train1, validation_split=0.1, epochs=1, verbose=0)\n",
    "    h2 = model2.fit(x_train2, y_train2, validation_split=0.1, epochs=1, verbose=0)\n",
    "    h3 = model3.fit(x_train3, y_train3, validation_split=0.1, epochs=1, verbose=0)\n",
    "    h4 = model4.fit(x_train4, y_train4, validation_split=0.1, epochs=1, verbose=0)\n",
    "\n",
    "print()\n",
    "model1.evaluate(x_test1,  y_test1, verbose=2)\n",
    "model2.evaluate(x_test2,  y_test2, verbose=2)\n",
    "model3.evaluate(x_test3,  y_test3, verbose=2)\n",
    "model4.evaluate(x_test4,  y_test4, verbose=2)"
   ]
  },
  {
   "cell_type": "code",
   "execution_count": 47,
   "metadata": {},
   "outputs": [],
   "source": [
    "model1 = MODEL()\n",
    "model2 = MODEL()\n",
    "model3 = MODEL()\n",
    "model4 = MODEL()"
   ]
  },
  {
   "cell_type": "code",
   "execution_count": 48,
   "metadata": {},
   "outputs": [],
   "source": [
    "n = n1+n2+n3+n4\n",
    "n1 = n1/n\n",
    "n2 = n2/n\n",
    "n3 = n3/n\n",
    "n4 = n4/n"
   ]
  },
  {
   "cell_type": "code",
   "execution_count": 49,
   "metadata": {},
   "outputs": [
    {
     "name": "stdout",
     "output_type": "stream",
     "text": [
      "18/18 - 0s - loss: 0.1146 - accuracy: 0.9582\n",
      "49/49 - 0s - loss: 0.1471 - accuracy: 0.9626\n",
      "46/46 - 0s - loss: 0.1186 - accuracy: 0.9710\n",
      "21/21 - 0s - loss: 0.0835 - accuracy: 0.9692\n"
     ]
    },
    {
     "data": {
      "text/plain": [
       "[0.08348328620195389, 0.9692307710647583]"
      ]
     },
     "execution_count": 49,
     "metadata": {},
     "output_type": "execute_result"
    }
   ],
   "source": [
    "for i in range(100):\n",
    "    h1 = model1.fit(x_train1, y_train1, validation_split=0.1, epochs=1, verbose=0)\n",
    "    h2 = model2.fit(x_train2, y_train2, validation_split=0.1, epochs=1, verbose=0)\n",
    "    h3 = model3.fit(x_train3, y_train3, validation_split=0.1, epochs=1, verbose=0)\n",
    "    h4 = model4.fit(x_train4, y_train4, validation_split=0.1, epochs=1, verbose=0)\n",
    "    \n",
    "    wt1 = model1.get_weights()\n",
    "    wt2 = model2.get_weights()\n",
    "    wt3 = model3.get_weights()\n",
    "    wt4 = model4.get_weights()\n",
    "    \n",
    "    a = np.array(wt1)\n",
    "    b = np.array(wt2)\n",
    "    c = np.array(wt3)\n",
    "    d = np.array(wt4)\n",
    "    \n",
    "    mean = n1*a + n2*b + n3*c + n4*d\n",
    "    \n",
    "    model1.set_weights(mean)\n",
    "    model2.set_weights(mean)\n",
    "    model3.set_weights(mean)\n",
    "    model4.set_weights(mean)\n",
    "\n",
    "model1.evaluate(x_test1,  y_test1, verbose=2)\n",
    "model2.evaluate(x_test2,  y_test2, verbose=2)\n",
    "model3.evaluate(x_test3,  y_test3, verbose=2)\n",
    "model4.evaluate(x_test4,  y_test4, verbose=2)"
   ]
  },
  {
   "cell_type": "code",
   "execution_count": null,
   "metadata": {},
   "outputs": [],
   "source": []
  }
 ],
 "metadata": {
  "kernelspec": {
   "display_name": "Python 3",
   "language": "python",
   "name": "python3"
  },
  "language_info": {
   "codemirror_mode": {
    "name": "ipython",
    "version": 3
   },
   "file_extension": ".py",
   "mimetype": "text/x-python",
   "name": "python",
   "nbconvert_exporter": "python",
   "pygments_lexer": "ipython3",
   "version": "3.7.3"
  }
 },
 "nbformat": 4,
 "nbformat_minor": 4
}
